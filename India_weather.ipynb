{
 "cells": [
  {
   "cell_type": "markdown",
   "id": "b015a146",
   "metadata": {},
   "source": [
    "### PLOTTING INDIA'S WEATHER DATA (PRECIPITATION) FROM RANGE OF 01/01/1950 TO 01/01/1965\n",
    "#### REGION - ARAKU VALLEY \n",
    "##### DATA RESOURCE - https://www.ncdc.noaa.gov/cdo-web/"
   ]
  },
  {
   "cell_type": "code",
   "execution_count": 20,
   "id": "7fdaaf37",
   "metadata": {},
   "outputs": [
    {
     "name": "stdout",
     "output_type": "stream",
     "text": [
      "Length of all rows:  5239\n",
      "---------------Printing top 5 rows------------------\n",
      "['STATION', 'NAME', 'LATITUDE', 'LONGITUDE', 'ELEVATION', 'DATE', 'PRCP', 'PRCP_ATTRIBUTES']\n",
      "['IN001200402', 'ARAKU VALLY, IN', '18.33', '82.85', '924.0', '1950-01-01', '0.00', ',,I']\n",
      "['IN001200402', 'ARAKU VALLY, IN', '18.33', '82.85', '924.0', '1950-01-02', '0.00', ',,I']\n",
      "['IN001200402', 'ARAKU VALLY, IN', '18.33', '82.85', '924.0', '1950-01-03', '0.00', ',,I']\n",
      "['IN001200402', 'ARAKU VALLY, IN', '18.33', '82.85', '924.0', '1950-01-04', '0.00', ',,I']\n"
     ]
    }
   ],
   "source": [
    "## INDIA's PRECIPITATION DATA \n",
    "\n",
    "import csv\n",
    "\n",
    "f = open(\"india_weather.csv\",\"r\")\n",
    "weather_list = list(csv.reader(f))\n",
    "\n",
    "print(\"Length of all rows: \", len(weather_list))\n",
    "print(\"---------------Printing top 5 rows------------------\")\n",
    "for i in range(0,5):\n",
    "    print(weather_list[i])"
   ]
  },
  {
   "cell_type": "code",
   "execution_count": 11,
   "id": "e2158a76",
   "metadata": {},
   "outputs": [],
   "source": [
    "import datetime"
   ]
  },
  {
   "cell_type": "code",
   "execution_count": 24,
   "id": "3513f618",
   "metadata": {},
   "outputs": [
    {
     "name": "stdout",
     "output_type": "stream",
     "text": [
      "Dates along with precipitation rates\n",
      "---------------Printing top 5 rows------------------\n",
      "1950-02-23 --> 0.27\n",
      "1950-03-19 --> 0.15\n",
      "1950-03-24 --> 0.48\n",
      "1950-03-25 --> 0.05\n",
      "1950-03-26 --> 0.22\n"
     ]
    }
   ],
   "source": [
    "prcp = []\n",
    "dates = []\n",
    "\n",
    "\n",
    "for i in weather_list:\n",
    "    if i[6] != 'PRCP' and float(i[6]) > 0:\n",
    "        prcp.append(float(i[6]))\n",
    "        dates.append(i[5])\n",
    "        \n",
    "dates = [datetime.datetime.strptime(d,\"%Y-%m-%d\").date() for d in dates]\n",
    "\n",
    "print(\"Dates along with precipitation rates\")\n",
    "print(\"---------------Printing top 5 rows------------------\")\n",
    "for i in range(0,5):\n",
    "    print(dates[i],\"-->\",prcp[i])\n",
    "    \n",
    "    \n"
   ]
  },
  {
   "cell_type": "code",
   "execution_count": 17,
   "id": "f418dbb9",
   "metadata": {},
   "outputs": [
    {
     "data": {
      "image/png": "[encoded data removed]",
      "text/plain": [
       "<Figure size 432x288 with 1 Axes>"
      ]
     },
     "metadata": {
      "needs_background": "light"
     },
     "output_type": "display_data"
    }
   ],
   "source": [
    "#HERE IS THE BEAUTIFUL LINE GRAPH \n",
    "import matplotlib.pyplot as plt\n",
    "\n",
    "plt.plot(dates,prcp)\n",
    "plt.xlabel(\"DATES\")\n",
    "plt.ylabel(\"PRCP\")\n",
    "plt.title(\"PRECIPITATION DATA INDIA\")\n",
    "plt.show()"
   ]
  },
  {
   "cell_type": "code",
   "execution_count": 25,
   "id": "91b7567e",
   "metadata": {},
   "outputs": [
    {
     "data": {
      "image/png": "[encoded data removed]",
      "text/plain": [
       "<Figure size 432x288 with 1 Axes>"
      ]
     },
     "metadata": {
      "needs_background": "light"
     },
     "output_type": "display_data"
    }
   ],
   "source": [
    "# BAR GRAPH \n",
    "plt.bar(dates,prcp)\n",
    "plt.xlabel(\"DATES\")\n",
    "plt.ylabel(\"PRCP\")\n",
    "plt.title(\"PRECIPITATION DATA INDIA\")\n",
    "plt.show()"
   ]
  },
  {
   "cell_type": "code",
   "execution_count": null,
   "id": "7135fbe4",
   "metadata": {},
   "outputs": [],
   "source": []
  }
 ],
 "metadata": {
  "kernelspec": {
   "display_name": "Python 3",
   "language": "python",
   "name": "python3"
  },
  "language_info": {
   "codemirror_mode": {
    "name": "ipython",
    "version": 3
   },
   "file_extension": ".py",
   "mimetype": "text/x-python",
   "name": "python",
   "nbconvert_exporter": "python",
   "pygments_lexer": "ipython3",
   "version": "3.8.8"
  }
 },
 "nbformat": 4,
 "nbformat_minor": 5
}
